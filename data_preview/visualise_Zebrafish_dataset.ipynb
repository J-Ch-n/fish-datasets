{
 "cells": [
  {
   "cell_type": "code",
   "execution_count": null,
   "metadata": {},
   "outputs": [],
   "source": [
    "# !pip install kagglehub"
   ]
  },
  {
   "cell_type": "code",
   "execution_count": null,
   "metadata": {},
   "outputs": [],
   "source": [
    "# Import necessary libraries\n",
    "import kagglehub\n",
    "import json\n",
    "import numpy as np\n",
    "import matplotlib.pyplot as plt\n",
    "import random\n",
    "import shutil\n",
    "import pandas as pd\n",
    "from pathlib import Path\n",
    "from PIL import Image, ImageDraw"
   ]
  },
  {
   "cell_type": "code",
   "execution_count": null,
   "metadata": {},
   "outputs": [],
   "source": [
    "help (kagglehub.dataset_download)"
   ]
  },
  {
   "cell_type": "markdown",
   "metadata": {},
   "source": [
    "# Download the dataset directly from kaggle"
   ]
  },
  {
   "cell_type": "code",
   "execution_count": null,
   "metadata": {},
   "outputs": [],
   "source": [
    "\n",
    "# Download latest version\n",
    "path = kagglehub.dataset_download(\"aalborguniversity/aau-zebrafish-reid\")"
   ]
  },
  {
   "cell_type": "code",
   "execution_count": 4,
   "metadata": {},
   "outputs": [],
   "source": [
    "dataset_shortname = \"Zebrafish\"\n",
    "data_dir = Path(\"./dataset\") / dataset_shortname\n",
    "data_dir.mkdir(exist_ok=True, parents=True)\n",
    "\n",
    "# check if the data directory exists\n",
    "assert data_dir.exists(), f\"Data directory {data_dir} does not exist\"\n"
   ]
  },
  {
   "cell_type": "code",
   "execution_count": 5,
   "metadata": {},
   "outputs": [],
   "source": [
    "if not any(data_dir.iterdir()):\n",
    "    shutil.move(path, str(data_dir))\n",
    "else:\n",
    "    print(\"Data already downloaded in the directory:\", data_dir)\n"
   ]
  },
  {
   "cell_type": "markdown",
   "metadata": {},
   "source": [
    "# Clean the annotation"
   ]
  },
  {
   "cell_type": "code",
   "execution_count": 8,
   "metadata": {},
   "outputs": [],
   "source": [
    "data_path = data_dir / \"2\"/\"data\"\n",
    "annotation_path = data_dir /\"2\"/ \"annotations.csv\""
   ]
  },
  {
   "cell_type": "code",
   "execution_count": null,
   "metadata": {},
   "outputs": [],
   "source": [
    "data_df = pd.read_csv(annotation_path, sep=\";\")\n",
    "data_df.head()"
   ]
  },
  {
   "cell_type": "code",
   "execution_count": null,
   "metadata": {},
   "outputs": [],
   "source": [
    "#check if the length of the dataframe is equal to the number of images in the data directory\n",
    "def check_image_count(data_df, data_path):\n",
    "    if len(list(data_path.iterdir())) == len(data_df):\n",
    "        print(\"Number of images in the data directory and the dataframe are equal\", len(data_df))\n",
    "    else:\n",
    "        print(\"Number of images in the data directory and the dataframe are not equal\")\n",
    "        print(\"Number of images in the data directory:\", len(list(data_path.iterdir())))\n",
    "        print(\"Number of images in the dataframe:\", len(data_df))\n",
    "\n",
    "check_image_count(data_df, data_path)"
   ]
  },
  {
   "cell_type": "code",
   "execution_count": null,
   "metadata": {},
   "outputs": [],
   "source": [
    "combined_col = \"Right,Turning,Occlusion,Glitch\"\n",
    "for idx, col in enumerate(combined_col.split(\",\")):\n",
    "    data_df[col] = data_df[combined_col].apply(lambda x: x.split(\",\")[idx])\n",
    "\n",
    "ws = data_df[\"Lower right corner X\"] - data_df[\"Upper left corner X\"]\n",
    "hs = data_df[\"Lower right corner Y\"] - data_df[\"Upper left corner Y\"]\n",
    "\n",
    "data_df['bbox'] = [[x, y, w, h] for x, y, w, h in list(zip(data_df[\"Upper left corner X\"].values,\n",
    "                    data_df[\"Upper left corner Y\"].values,\n",
    "                    ws,\n",
    "                    hs))]\n",
    "\n",
    "data_df[\"path\"] = data_path / data_df[\"Filename\"]\n",
    "data_df[\"Object ID\"] = data_df[\"Object ID\"].astype(str)\n",
    "data_df[\"label\"] = data_df[\"Annotation tag\"]\n",
    "data_df[\"image_id\"] = data_df['Filename'].apply(lambda x: x.split(\".\")[0])\n",
    "data_df = data_df[[\"image_id\", \"label\", \"bbox\", \"path\"]]\n",
    "\n",
    "data_df =  data_df.groupby(\"image_id\").agg({\"label\": list, \"bbox\": list, \"path\": list}).reset_index()\n",
    "# data_df[\"path\"\t] = data_df[\"path\"].apply(lambda x: x[0])\n",
    "# data_df[\"label\"] = data_df[\"label\"].apply(lambda x: x[0])\n",
    "\n",
    "data_df.head()\n"
   ]
  },
  {
   "cell_type": "code",
   "execution_count": null,
   "metadata": {},
   "outputs": [],
   "source": [
    "check_image_count(data_df, data_path)"
   ]
  },
  {
   "cell_type": "markdown",
   "metadata": {},
   "source": [
    "# Convert annotations to Coco format"
   ]
  },
  {
   "cell_type": "code",
   "execution_count": 13,
   "metadata": {},
   "outputs": [],
   "source": [
    "def convert_to_serializable(obj):\n",
    "    \"\"\"\n",
    "    Convert numpy types to native Python types for JSON serialization.\n",
    "    \"\"\"\n",
    "    if isinstance(obj, (np.int64, np.int32, np.float64, np.float32)):\n",
    "        return int(obj) if isinstance(obj, (np.int64, np.int32)) else float(obj)\n",
    "    elif isinstance(obj, list):\n",
    "        return [convert_to_serializable(item) for item in obj]\n",
    "    elif isinstance(obj, dict):\n",
    "        return {key: convert_to_serializable(value) for key, value in obj.items()}\n",
    "    return obj"
   ]
  },
  {
   "cell_type": "code",
   "execution_count": 14,
   "metadata": {},
   "outputs": [],
   "source": [
    "def dataframe_to_coco(df, output_json_path):\n",
    "    # Initialize COCO format dictionary\n",
    "    coco_format = {\n",
    "        \"info\": {},\n",
    "        \"licenses\": [],\n",
    "        \"images\": [],\n",
    "        \"annotations\": [],\n",
    "        \"categories\": []\n",
    "    }\n",
    "\n",
    "    # Create a mapping from label to category_id\n",
    "    unique_labels = sorted(set([label for sublist in df['label'] for label in sublist]))\n",
    "    label_to_id = {label: i + 1 for i, label in enumerate(unique_labels)}\n",
    "\n",
    "    # Populate categories\n",
    "    for label, cat_id in label_to_id.items():\n",
    "        coco_format[\"categories\"].append({\n",
    "            \"id\": cat_id,\n",
    "            \"name\": label,\n",
    "            \"supercategory\": \"none\"\n",
    "        })\n",
    "\n",
    "    # Initialize annotation id\n",
    "    annotation_id = 1\n",
    "\n",
    "    # Iterate over each row in the dataframe\n",
    "    for idx, row in df.iterrows():\n",
    "        image_id = row['image_id']\n",
    "        image_path = row['path'][0]\n",
    "\n",
    "        # Open image to get width and height\n",
    "        with Image.open(image_path) as img:\n",
    "            width, height = img.size\n",
    "\n",
    "        # Add image info to COCO format\n",
    "        coco_format[\"images\"].append({\n",
    "            \"id\": image_id,\n",
    "            \"file_name\": image_path.name,\n",
    "            \"width\": width,\n",
    "            \"height\": height\n",
    "        })\n",
    "\n",
    "        # Add annotations for each object in the image\n",
    "        for label, bbox in zip(row['label'], row['bbox']):\n",
    "            coco_format[\"annotations\"].append({\n",
    "                \"id\": annotation_id,\n",
    "                \"image_id\": image_id,\n",
    "                \"category_id\": label_to_id[label],\n",
    "                \"bbox\": convert_to_serializable(bbox),  #  bbox is [x_min, y_min, width, height]\n",
    "                \"area\": bbox[2] * bbox[3],  # width * height\n",
    "                \"iscrowd\": 0\n",
    "            })\n",
    "            annotation_id += 1\n",
    "\n",
    "\n",
    "    # Save the COCO format dictionary to a JSON file\n",
    "    with open(output_json_path, 'w') as f:\n",
    "        json.dump(coco_format, f, indent=4)\n",
    "\n",
    "    print(f\"COCO format JSON saved to {output_json_path}\")"
   ]
  },
  {
   "cell_type": "code",
   "execution_count": null,
   "metadata": {},
   "outputs": [],
   "source": [
    "output_json_path = data_dir / \"coco_format.json\"\n",
    "dataframe_to_coco(data_df, output_json_path)"
   ]
  },
  {
   "cell_type": "markdown",
   "metadata": {},
   "source": [
    "# Visualize the dataset with boxes"
   ]
  },
  {
   "cell_type": "code",
   "execution_count": 142,
   "metadata": {},
   "outputs": [],
   "source": [
    "\n",
    "def load_coco_annotations(json_path):\n",
    "    \"\"\"Load COCO annotations from a JSON file.\"\"\"\n",
    "    with open(json_path, 'r') as f:\n",
    "        coco_data = json.load(f)\n",
    "    return coco_data\n",
    "\n",
    "def get_image_annotations(image_id, coco_data):\n",
    "    \"\"\"Get all annotations for a specific image ID.\"\"\"\n",
    "    annotations = []\n",
    "    for ann in coco_data['annotations']:\n",
    "        if ann['image_id'] == image_id:\n",
    "            annotations.append(ann)\n",
    "    return annotations\n",
    "\n",
    "def visualize_image_with_boxes(image_path, annotations, coco_data):\n",
    "    \"\"\"Visualize an image with its bounding boxes.\"\"\"\n",
    "    # Load the image\n",
    "    image = Image.open(image_path)\n",
    "\n",
    "    # Create a drawing context\n",
    "    draw = ImageDraw.Draw(image)\n",
    "\n",
    "    # Draw bounding boxes and labels\n",
    "    for ann in annotations:\n",
    "        bbox = ann['bbox']  # COCO bbox format: [x_min, y_min, width, height]\n",
    "        category_id = ann['category_id']\n",
    "        category_name = next(\n",
    "            (cat['name'] for cat in coco_data['categories'] if cat['id'] == category_id),\n",
    "            'unknown'\n",
    "        )\n",
    "\n",
    "        # Draw the bounding box\n",
    "        x_min, y_min, width, height = map(int, bbox)\n",
    "        draw.rectangle([x_min, y_min, x_min + width, y_min + height], outline=\"red\", width=2)\n",
    "\n",
    "        # Draw the label\n",
    "        label = f\"{category_name}\"\n",
    "        draw.text((x_min, y_min - 15), label, fill=\"red\")\n",
    "\n",
    "    # Display the image\n",
    "    plt.figure(figsize=(10, 10))\n",
    "    plt.imshow(image)\n",
    "    plt.axis('off')\n",
    "    plt.show()\n",
    "\n",
    "def visualize_random_images(coco_data, num_images=5):\n",
    "    \"\"\"Visualize random images with their bounding boxes.\"\"\"\n",
    "    images = coco_data['images']\n",
    "    random.shuffle(images)  # Shuffle to pick random images\n",
    "\n",
    "    for i in range(min(num_images, len(images))):\n",
    "        image_info = images[i]\n",
    "        image_id = image_info['id']\n",
    "        image_path = data_path / image_info['file_name']  # Assuming file_name contains the full path\n",
    "\n",
    "        # Get annotations for the image\n",
    "        annotations = get_image_annotations(image_id, coco_data)\n",
    "\n",
    "        # Visualize the image with bounding boxes\n",
    "        print(f\"Visualizing image: {image_path}\")\n",
    "        visualize_image_with_boxes(image_path, annotations, coco_data)"
   ]
  },
  {
   "cell_type": "code",
   "execution_count": null,
   "metadata": {},
   "outputs": [],
   "source": [
    "coco_data = load_coco_annotations(output_json_path)\n",
    "\n",
    "# Visualize random images\n",
    "visualize_random_images(coco_data, num_images=5)"
   ]
  },
  {
   "cell_type": "code",
   "execution_count": null,
   "metadata": {},
   "outputs": [],
   "source": []
  }
 ],
 "metadata": {
  "kernelspec": {
   "display_name": ".venv",
   "language": "python",
   "name": "python3"
  },
  "language_info": {
   "codemirror_mode": {
    "name": "ipython",
    "version": 3
   },
   "file_extension": ".py",
   "mimetype": "text/x-python",
   "name": "python",
   "nbconvert_exporter": "python",
   "pygments_lexer": "ipython3",
   "version": "3.12.0"
  }
 },
 "nbformat": 4,
 "nbformat_minor": 2
}
