{
 "cells": [
  {
   "cell_type": "code",
   "execution_count": null,
   "metadata": {},
   "outputs": [],
   "source": [
    "from imgann import Sample\n",
    "import xml.etree.ElementTree as ET\n",
    "import os"
   ]
  },
  {
   "cell_type": "markdown",
   "metadata": {},
   "source": [
    "## Download"
   ]
  },
  {
   "cell_type": "code",
   "execution_count": 2,
   "metadata": {},
   "outputs": [],
   "source": [
    "def download_unzip(url, output_path):\n",
    "  os.makedirs(folder, exist_ok=True)\n",
    "  os.system(f'wget -O {output_path}.zip {download_url}')\n",
    "  os.system(f'unzip {output_path}.zip -d {output_path}')\n",
    "\n",
    "download_url = 'https://github.com/microsoft/Project_Natick_Analysis/releases/download/annotated_data/data_release.zip'\n",
    "folder = '../downloads'\n",
    "dataset_name = 'project_natick'\n",
    "local_path = f'{folder}/{dataset_name}'\n",
    "download_unzip(download_url, local_path)"
   ]
  },
  {
   "cell_type": "markdown",
   "metadata": {},
   "source": [
    "## Visualise"
   ]
  },
  {
   "cell_type": "code",
   "execution_count": 3,
   "metadata": {},
   "outputs": [],
   "source": [
    "format = 'voc'\n",
    "subfolder = 'data_release/fish_annotations'\n",
    "dataset_path = os.path.join(local_path, subfolder)"
   ]
  },
  {
   "cell_type": "code",
   "execution_count": null,
   "metadata": {},
   "outputs": [],
   "source": [
    "def add_extension_to_filename(directory, extension='.jpg'):\n",
    "    # Iterate over all files in the directory\n",
    "    for filename in os.listdir(directory):\n",
    "        if filename.endswith('.xml'):  # Check if the file is an XML file\n",
    "            filepath = os.path.join(directory, filename)\n",
    "            tree = ET.parse(filepath)  # Parse the XML file\n",
    "            root = tree.getroot()  # Get the root element of the XML file\n",
    "            \n",
    "            # Find the 'filename' element and modify it\n",
    "            filename_element = root.find('filename')\n",
    "            if filename_element is not None:\n",
    "                if not filename_element.text.endswith(extension):\n",
    "                    filename_element.text += extension\n",
    "                    tree.write(filepath)  # Save the modified XML back to the file\n",
    "                    print(f\"Updated {filename}\")\n",
    "                else:\n",
    "                    print(f\"{filename} already has extension, skipped.\")\n",
    "\n",
    "# VOC annotation filenames must have extensions\n",
    "add_extension_to_filename(os.path.join(dataset_path, 'Annotations'))"
   ]
  },
  {
   "cell_type": "code",
   "execution_count": null,
   "metadata": {},
   "outputs": [],
   "source": [
    "Sample.describe_ann(\n",
    "  data_path=os.path.join(dataset_path, 'JPEGImages'),\n",
    "  ann_path=os.path.join(dataset_path, 'Annotations'),\n",
    "  ann_type=format\n",
    ")\n",
    "\n",
    "Sample.show_samples(\n",
    "  data_path = os.path.join(dataset_path, 'JPEGImages'),\n",
    "  ann_path = os.path.join(dataset_path, 'Annotations'),\n",
    "  num_of_samples = 1,\n",
    "  ann_type = format,\n",
    "  image_shape=[1920, 1080]\n",
    ")"
   ]
  },
  {
   "cell_type": "code",
   "execution_count": null,
   "metadata": {},
   "outputs": [],
   "source": []
  }
 ],
 "metadata": {
  "kernelspec": {
   "display_name": "default_ml_pytorch",
   "language": "python",
   "name": "python3"
  },
  "language_info": {
   "codemirror_mode": {
    "name": "ipython",
    "version": 3
   },
   "file_extension": ".py",
   "mimetype": "text/x-python",
   "name": "python",
   "nbconvert_exporter": "python",
   "pygments_lexer": "ipython3",
   "version": "3.10.12"
  }
 },
 "nbformat": 4,
 "nbformat_minor": 2
}
