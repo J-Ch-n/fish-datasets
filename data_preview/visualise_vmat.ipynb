{
  "cells": [
    {
      "cell_type": "code",
      "execution_count": 1,
      "metadata": {
        "id": "aiD8POSY9Ynk"
      },
      "outputs": [],
      "source": [
        "import os\n",
        "import random\n",
        "import cv2\n",
        "import pandas as pd\n",
        "import matplotlib.pyplot as plt\n",
        "import matplotlib.patches as patches"
      ]
    },
    {
      "cell_type": "code",
      "execution_count": null,
      "metadata": {
        "colab": {
          "base_uri": "https://localhost:8080/"
        },
        "id": "7d1iETJ5h-gM",
        "outputId": "b74d188b-c46b-4c45-ac32-32486fa8c403"
      },
      "outputs": [],
      "source": [
        "from google.colab import drive\n",
        "drive.mount('/content/drive')\n"
      ]
    },
    {
      "cell_type": "markdown",
      "metadata": {},
      "source": [
        "# DATASET ACQUISITION \n",
        "dataset can be downloaded from the following link:\n",
        "https://warp.whoi.edu/vmat/"
      ]
    },
    {
      "cell_type": "code",
      "execution_count": 4,
      "metadata": {
        "id": "6yERCXZc9f8F"
      },
      "outputs": [],
      "source": [
        "# Path to your dataset (update this path as needed)\n",
        "image_folder = '/content/drive/MyDrive/GX010090_shark.MP4_clip'\n",
        "annotation_file = '/content/GX010090_shark.MP4_clip_obj0.txt'"
      ]
    },
    {
      "cell_type": "markdown",
      "metadata": {},
      "source": [
        "# DATASET VISUALIZATION"
      ]
    },
    {
      "cell_type": "code",
      "execution_count": null,
      "metadata": {
        "colab": {
          "base_uri": "https://localhost:8080/",
          "height": 1000
        },
        "id": "vOJobNq3B-wg",
        "outputId": "0af2305c-ebd3-4d8b-d9bf-90f42adca704"
      },
      "outputs": [],
      "source": [
        "# Load annotations\n",
        "annotations = pd.read_csv(annotation_file, sep='\\s+', header=None)\n",
        "annotations.columns = ['left', 'top', 'width', 'height']\n",
        "\n",
        "# Add frame number (assuming frames start at 1)\n",
        "annotations['frame'] = annotations.index + 1\n",
        "\n",
        "# Import necessary libraries\n",
        "import numpy as np\n",
        "import matplotlib.pyplot as plt\n",
        "import cv2\n",
        "import matplotlib.patches as patches\n",
        "\n",
        "\n",
        "def show_random_images(n_images=5):\n",
        "    selected_frames = np.random.choice(annotations.index, n_images, replace=False)\n",
        "\n",
        "    for frame_idx in selected_frames:\n",
        "        frame_annotation = annotations.iloc[frame_idx]\n",
        "        frame_number = frame_annotation['frame']\n",
        "        image_path = f'{image_folder}/{frame_number_to_filename(frame_number)}'\n",
        "\n",
        "        # Load image and handle errors\n",
        "        image = cv2.imread(image_path)\n",
        "        if image is None:\n",
        "            print(f\"Image {image_path} not found or unreadable.\")\n",
        "            continue\n",
        "        image = cv2.cvtColor(image, cv2.COLOR_BGR2RGB)\n",
        "\n",
        "        # Draw bounding box\n",
        "        left = frame_annotation['left']\n",
        "        top = frame_annotation['top']\n",
        "        width = frame_annotation['width']\n",
        "        height = frame_annotation['height']\n",
        "\n",
        "        fig, ax = plt.subplots(figsize=(12, 8))\n",
        "        ax.imshow(image)\n",
        "        rect = patches.Rectangle((left, top), width, height, linewidth=2, edgecolor='cyan', facecolor='none')\n",
        "        ax.add_patch(rect)\n",
        "        plt.title(f'Frame: {frame_number}')\n",
        "        plt.axis('off')\n",
        "        plt.show()\n",
        "\n",
        "# Helper function to format frame numbers\n",
        "def frame_number_to_filename(frame_number):\n",
        "    return f\"{frame_number:05d}.jpg\"  # This will convert 1 to 00001.jpg\n",
        "\n",
        "# Run the visualization\n",
        "show_random_images(n_images=10)\n",
        "\n"
      ]
    }
  ],
  "metadata": {
    "colab": {
      "provenance": []
    },
    "kernelspec": {
      "display_name": "Python 3",
      "name": "python3"
    },
    "language_info": {
      "name": "python"
    }
  },
  "nbformat": 4,
  "nbformat_minor": 0
}
